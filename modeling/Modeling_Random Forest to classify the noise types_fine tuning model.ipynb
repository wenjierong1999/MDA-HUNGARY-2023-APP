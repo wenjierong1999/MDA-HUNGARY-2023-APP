{
 "cells": [
  {
   "cell_type": "markdown",
   "metadata": {},
   "source": [
    "Make Functions Work for Classification Export 41\n"
   ]
  },
  {
   "cell_type": "code",
   "execution_count": 69,
   "metadata": {
    "ExecuteTime": {
     "end_time": "2023-06-04T14:36:00.024988Z",
     "start_time": "2023-06-04T14:36:00.015419Z"
    }
   },
   "outputs": [],
   "source": [
    "import os\n",
    "import pandas as pd\n",
    "import numpy as np\n",
    "from fancyimpute import IterativeImputer\n",
    "from datetime import datetime"
   ]
  },
  {
   "cell_type": "markdown",
   "metadata": {
    "ExecuteTime": {
     "end_time": "2023-06-04T14:19:43.802614Z",
     "start_time": "2023-06-04T14:19:43.797939Z"
    }
   },
   "source": [
    "# Data exploration"
   ]
  },
  {
   "cell_type": "markdown",
   "metadata": {},
   "source": [
    "Apply Machine Learning: I ran this on Google Colab"
   ]
  },
  {
   "cell_type": "code",
   "execution_count": 70,
   "metadata": {
    "ExecuteTime": {
     "end_time": "2023-06-04T14:36:02.767180Z",
     "start_time": "2023-06-04T14:36:02.202468Z"
    }
   },
   "outputs": [],
   "source": [
    "\n",
    "\n",
    "import pandas as pd\n",
    "from sklearn.model_selection import train_test_split, cross_val_score\n",
    "from sklearn.ensemble import RandomForestClassifier\n",
    "from sklearn.preprocessing import LabelEncoder\n",
    "from sklearn.preprocessing import MinMaxScaler\n",
    "from sklearn.preprocessing import QuantileTransformer\n",
    "from sklearn.metrics import mean_squared_error, r2_score\n",
    "from sklearn.impute import SimpleImputer\n",
    "from sklearn.model_selection import GridSearchCV\n",
    "from sklearn.compose import ColumnTransformer\n",
    "from sklearn.pipeline import Pipeline, make_pipeline\n",
    "\n",
    "# Read the file\n",
    "df_41 = pd.read_csv('./Export 41 and weather.csv') #, nrows = 25000\n",
    "\n",
    "# Define x and y\n",
    "x = df_41[['hour', 'month', 'weekday', 'description', 'LC_HUMIDITY', 'LC_DWPTEMP', 'LC_n', 'LC_WINDDIR', 'LC_WINDSPEED', 'LC_TEMP_QCL0']]\n",
    "#'hour', 'month', 'weekday', 'description', 'LC_HUMIDITY', 'LC_DWPTEMP', 'LC_n', 'LC_RAD', 'LC_RAININ', 'LC_DAILYRAIN', 'LC_WINDDIR', 'LC_WINDSPEED', 'LC_RAD60', 'LC_TEMP_QCL0', 'LC_TEMP_QCL1', 'LC_TEMP_QCL2', 'LC_TEMP_QCL3'\n",
    "y = df_41['noise_event_laeq_primary_detected_class']\n",
    "\n"
   ]
  },
  {
   "cell_type": "code",
   "execution_count": 71,
   "metadata": {
    "ExecuteTime": {
     "end_time": "2023-06-04T14:36:06.199739Z",
     "start_time": "2023-06-04T14:36:05.997197Z"
    }
   },
   "outputs": [
    {
     "data": {
      "text/plain": [
       "<AxesSubplot:title={'center':'Count (target)'}>"
      ]
     },
     "execution_count": 71,
     "metadata": {},
     "output_type": "execute_result"
    },
    {
     "data": {
      "image/png": "[encoded data removed]",
      "text/plain": [
       "<Figure size 432x288 with 1 Axes>"
      ]
     },
     "metadata": {
      "needs_background": "light"
     },
     "output_type": "display_data"
    }
   ],
   "source": [
    "\n",
    "\n",
    "y.value_counts().plot(kind='bar', title='Count (target)')\n",
    "\n",
    "#We see that the target variable is highly imbalanced, but there're 7 categories overall and \n",
    "#replicating new data with resampling will end up with reseampled data prevailing actual data, so we leave as it is"
   ]
  },
  {
   "cell_type": "code",
   "execution_count": 72,
   "metadata": {
    "ExecuteTime": {
     "end_time": "2023-06-04T14:36:08.465175Z",
     "start_time": "2023-06-04T14:36:08.425966Z"
    }
   },
   "outputs": [
    {
     "data": {
      "text/html": [
       "<div>\n",
       "<style scoped>\n",
       "    .dataframe tbody tr th:only-of-type {\n",
       "        vertical-align: middle;\n",
       "    }\n",
       "\n",
       "    .dataframe tbody tr th {\n",
       "        vertical-align: top;\n",
       "    }\n",
       "\n",
       "    .dataframe thead th {\n",
       "        text-align: right;\n",
       "    }\n",
       "</style>\n",
       "<table border=\"1\" class=\"dataframe\">\n",
       "  <thead>\n",
       "    <tr style=\"text-align: right;\">\n",
       "      <th></th>\n",
       "      <th>hour</th>\n",
       "      <th>month</th>\n",
       "      <th>weekday</th>\n",
       "      <th>LC_HUMIDITY</th>\n",
       "      <th>LC_DWPTEMP</th>\n",
       "      <th>LC_n</th>\n",
       "      <th>LC_WINDDIR</th>\n",
       "      <th>LC_WINDSPEED</th>\n",
       "      <th>LC_TEMP_QCL0</th>\n",
       "    </tr>\n",
       "  </thead>\n",
       "  <tbody>\n",
       "    <tr>\n",
       "      <th>hour</th>\n",
       "      <td>1.000000</td>\n",
       "      <td>0.015983</td>\n",
       "      <td>0.009000</td>\n",
       "      <td>-0.334851</td>\n",
       "      <td>0.093846</td>\n",
       "      <td>-0.002903</td>\n",
       "      <td>-0.019561</td>\n",
       "      <td>0.120020</td>\n",
       "      <td>0.272212</td>\n",
       "    </tr>\n",
       "    <tr>\n",
       "      <th>month</th>\n",
       "      <td>0.015983</td>\n",
       "      <td>1.000000</td>\n",
       "      <td>0.073404</td>\n",
       "      <td>0.354403</td>\n",
       "      <td>0.151760</td>\n",
       "      <td>0.082337</td>\n",
       "      <td>-0.076921</td>\n",
       "      <td>-0.147478</td>\n",
       "      <td>-0.077921</td>\n",
       "    </tr>\n",
       "    <tr>\n",
       "      <th>weekday</th>\n",
       "      <td>0.009000</td>\n",
       "      <td>0.073404</td>\n",
       "      <td>1.000000</td>\n",
       "      <td>0.040522</td>\n",
       "      <td>-0.003441</td>\n",
       "      <td>-0.001092</td>\n",
       "      <td>0.028852</td>\n",
       "      <td>-0.005573</td>\n",
       "      <td>-0.026779</td>\n",
       "    </tr>\n",
       "    <tr>\n",
       "      <th>LC_HUMIDITY</th>\n",
       "      <td>-0.334851</td>\n",
       "      <td>0.354403</td>\n",
       "      <td>0.040522</td>\n",
       "      <td>1.000000</td>\n",
       "      <td>-0.133804</td>\n",
       "      <td>0.014805</td>\n",
       "      <td>-0.156759</td>\n",
       "      <td>-0.212346</td>\n",
       "      <td>-0.709729</td>\n",
       "    </tr>\n",
       "    <tr>\n",
       "      <th>LC_DWPTEMP</th>\n",
       "      <td>0.093846</td>\n",
       "      <td>0.151760</td>\n",
       "      <td>-0.003441</td>\n",
       "      <td>-0.133804</td>\n",
       "      <td>1.000000</td>\n",
       "      <td>0.107235</td>\n",
       "      <td>-0.191764</td>\n",
       "      <td>-0.001571</td>\n",
       "      <td>0.782228</td>\n",
       "    </tr>\n",
       "    <tr>\n",
       "      <th>LC_n</th>\n",
       "      <td>-0.002903</td>\n",
       "      <td>0.082337</td>\n",
       "      <td>-0.001092</td>\n",
       "      <td>0.014805</td>\n",
       "      <td>0.107235</td>\n",
       "      <td>1.000000</td>\n",
       "      <td>-0.059735</td>\n",
       "      <td>0.006572</td>\n",
       "      <td>0.073607</td>\n",
       "    </tr>\n",
       "    <tr>\n",
       "      <th>LC_WINDDIR</th>\n",
       "      <td>-0.019561</td>\n",
       "      <td>-0.076921</td>\n",
       "      <td>0.028852</td>\n",
       "      <td>-0.156759</td>\n",
       "      <td>-0.191764</td>\n",
       "      <td>-0.059735</td>\n",
       "      <td>1.000000</td>\n",
       "      <td>-0.324780</td>\n",
       "      <td>-0.032301</td>\n",
       "    </tr>\n",
       "    <tr>\n",
       "      <th>LC_WINDSPEED</th>\n",
       "      <td>0.120020</td>\n",
       "      <td>-0.147478</td>\n",
       "      <td>-0.005573</td>\n",
       "      <td>-0.212346</td>\n",
       "      <td>-0.001571</td>\n",
       "      <td>0.006572</td>\n",
       "      <td>-0.324780</td>\n",
       "      <td>1.000000</td>\n",
       "      <td>0.114039</td>\n",
       "    </tr>\n",
       "    <tr>\n",
       "      <th>LC_TEMP_QCL0</th>\n",
       "      <td>0.272212</td>\n",
       "      <td>-0.077921</td>\n",
       "      <td>-0.026779</td>\n",
       "      <td>-0.709729</td>\n",
       "      <td>0.782228</td>\n",
       "      <td>0.073607</td>\n",
       "      <td>-0.032301</td>\n",
       "      <td>0.114039</td>\n",
       "      <td>1.000000</td>\n",
       "    </tr>\n",
       "  </tbody>\n",
       "</table>\n",
       "</div>"
      ],
      "text/plain": [
       "                  hour     month   weekday  LC_HUMIDITY  LC_DWPTEMP      LC_n  \\\n",
       "hour          1.000000  0.015983  0.009000    -0.334851    0.093846 -0.002903   \n",
       "month         0.015983  1.000000  0.073404     0.354403    0.151760  0.082337   \n",
       "weekday       0.009000  0.073404  1.000000     0.040522   -0.003441 -0.001092   \n",
       "LC_HUMIDITY  -0.334851  0.354403  0.040522     1.000000   -0.133804  0.014805   \n",
       "LC_DWPTEMP    0.093846  0.151760 -0.003441    -0.133804    1.000000  0.107235   \n",
       "LC_n         -0.002903  0.082337 -0.001092     0.014805    0.107235  1.000000   \n",
       "LC_WINDDIR   -0.019561 -0.076921  0.028852    -0.156759   -0.191764 -0.059735   \n",
       "LC_WINDSPEED  0.120020 -0.147478 -0.005573    -0.212346   -0.001571  0.006572   \n",
       "LC_TEMP_QCL0  0.272212 -0.077921 -0.026779    -0.709729    0.782228  0.073607   \n",
       "\n",
       "              LC_WINDDIR  LC_WINDSPEED  LC_TEMP_QCL0  \n",
       "hour           -0.019561      0.120020      0.272212  \n",
       "month          -0.076921     -0.147478     -0.077921  \n",
       "weekday         0.028852     -0.005573     -0.026779  \n",
       "LC_HUMIDITY    -0.156759     -0.212346     -0.709729  \n",
       "LC_DWPTEMP     -0.191764     -0.001571      0.782228  \n",
       "LC_n           -0.059735      0.006572      0.073607  \n",
       "LC_WINDDIR      1.000000     -0.324780     -0.032301  \n",
       "LC_WINDSPEED   -0.324780      1.000000      0.114039  \n",
       "LC_TEMP_QCL0   -0.032301      0.114039      1.000000  "
      ]
     },
     "execution_count": 72,
     "metadata": {},
     "output_type": "execute_result"
    }
   ],
   "source": [
    "correlations = x.corr()\n",
    "correlations\n",
    "\n",
    "#no correlations > 0.9, so we keep all variables"
   ]
  },
  {
   "cell_type": "code",
   "execution_count": 73,
   "metadata": {
    "ExecuteTime": {
     "end_time": "2023-06-04T14:36:09.669594Z",
     "start_time": "2023-06-04T14:36:09.417135Z"
    }
   },
   "outputs": [
    {
     "data": {
      "text/plain": [
       "Text(0.5, 1.0, 'Distribution of LC_HUMIDITY')"
      ]
     },
     "execution_count": 73,
     "metadata": {},
     "output_type": "execute_result"
    },
    {
     "data": {
      "image/png": "[encoded data removed]",
      "text/plain": [
       "<Figure size 432x288 with 1 Axes>"
      ]
     },
     "metadata": {
      "needs_background": "light"
     },
     "output_type": "display_data"
    }
   ],
   "source": [
    "from matplotlib import pyplot as plt\n",
    "\n",
    "#checking data distribution\n",
    "plt.hist(x['LC_HUMIDITY'],bins=50,color='lightseagreen')\n",
    "plt.xlabel('LC_HUMIDITY')\n",
    "plt.ylabel('Frequency')\n",
    "plt.title('Distribution of LC_HUMIDITY')\n",
    "\n",
    "#the plot is skewed to the left"
   ]
  },
  {
   "cell_type": "code",
   "execution_count": 74,
   "metadata": {
    "ExecuteTime": {
     "end_time": "2023-06-04T14:36:12.415365Z",
     "start_time": "2023-06-04T14:36:12.149483Z"
    }
   },
   "outputs": [
    {
     "data": {
      "text/plain": [
       "Text(0.5, 1.0, 'Distribution of wind speed')"
      ]
     },
     "execution_count": 74,
     "metadata": {},
     "output_type": "execute_result"
    },
    {
     "data": {
      "image/png": "[encoded data removed]",
      "text/plain": [
       "<Figure size 432x288 with 1 Axes>"
      ]
     },
     "metadata": {
      "needs_background": "light"
     },
     "output_type": "display_data"
    }
   ],
   "source": [
    "plt.hist(x['LC_WINDSPEED'],bins=50,color='lightseagreen')\n",
    "plt.xlabel('LC_WINDSPEED')\n",
    "plt.ylabel('Frequency')\n",
    "plt.title('Distribution of wind speed')\n",
    "\n",
    "#the plot is skewed to the left"
   ]
  },
  {
   "cell_type": "code",
   "execution_count": 75,
   "metadata": {
    "ExecuteTime": {
     "end_time": "2023-06-04T14:36:15.125291Z",
     "start_time": "2023-06-04T14:36:14.846568Z"
    }
   },
   "outputs": [
    {
     "data": {
      "text/plain": [
       "Text(0.5, 1.0, 'Distribution of wind speed')"
      ]
     },
     "execution_count": 75,
     "metadata": {},
     "output_type": "execute_result"
    },
    {
     "data": {
      "image/png": "[encoded data removed]",
      "text/plain": [
       "<Figure size 432x288 with 1 Axes>"
      ]
     },
     "metadata": {
      "needs_background": "light"
     },
     "output_type": "display_data"
    }
   ],
   "source": [
    "#let's take root square to deal with skewness\n",
    "\n",
    "plt.hist(np.sqrt(x['LC_WINDSPEED']),bins=50,color='lightseagreen')\n",
    "plt.xlabel('LC_WINDSPEED')\n",
    "plt.ylabel('Frequency')\n",
    "plt.title('Distribution of wind speed')"
   ]
  },
  {
   "cell_type": "markdown",
   "metadata": {},
   "source": [
    "## Preprocessing"
   ]
  },
  {
   "cell_type": "code",
   "execution_count": 78,
   "metadata": {
    "ExecuteTime": {
     "end_time": "2023-06-04T14:36:55.125719Z",
     "start_time": "2023-06-04T14:36:54.909130Z"
    }
   },
   "outputs": [
    {
     "name": "stderr",
     "output_type": "stream",
     "text": [
      "/Users/zarina/anaconda3/lib/python3.8/site-packages/pandas/core/indexing.py:1745: SettingWithCopyWarning: \n",
      "A value is trying to be set on a copy of a slice from a DataFrame.\n",
      "Try using .loc[row_indexer,col_indexer] = value instead\n",
      "\n",
      "See the caveats in the documentation: https://pandas.pydata.org/pandas-docs/stable/user_guide/indexing.html#returning-a-view-versus-a-copy\n",
      "  isetter(ilocs[0], value)\n"
     ]
    }
   ],
   "source": [
    "# Initialise the label encoders\n",
    "\n",
    "label_encoder_x = LabelEncoder()\n",
    "label_encoder_y = LabelEncoder()\n",
    "\n",
    "# Encode the 'description' feature as class\n",
    "x.loc[:, 'description'] = label_encoder_x.fit_transform(x['description'])\n",
    "\n",
    "# Encode the target variable\n",
    "y_encoded = label_encoder_y.fit_transform(y)\n",
    "\n",
    "#building a pipeline to scale numerical features and make normally distributed\n",
    "scale_pipe = make_pipeline(MinMaxScaler(),QuantileTransformer(output_distribution='normal') )\n",
    "\n",
    "#selecting only numerical columns (not categories)\n",
    "num_cols = list(x.drop(['description', 'weekday', 'hour', 'month'], axis=1).columns)\n",
    "\n",
    "\n",
    "transformer = ColumnTransformer(\n",
    "    transformers=[\n",
    "        (\"scale\", scale_pipe, num_cols)\n",
    "    ], remainder='passthrough'\n",
    ")\n",
    "\n",
    "#transforming whole data\n",
    "cnames = list(x.columns)\n",
    "x_transformed= pd.DataFrame(transformer.fit_transform(x), columns=cnames)\n",
    "\n",
    "# Split the data into training and test sets\n",
    "x_train, x_test, y_train, y_test = train_test_split(x_transformed, y, test_size=0.25, random_state=42)\n",
    "\n",
    "#parameters to pass to random forest\n",
    "params2 = { 'max_depth': [5,15],\n",
    "           'min_samples_split': [2, 10],\n",
    "           'n_estimators': [100, 500],\n",
    "           'min_samples_leaf': [5]}\n",
    "\n",
    "forest = RandomForestClassifier(max_depth=6, random_state=42)\n",
    "\n",
    "#make kfold strat\n",
    "#cv = KFold(n_splits=3, random_state=1, shuffle=True)\n",
    "\n",
    "#grid serach to find best parameters for random forest classifier\n",
    "clf = GridSearchCV(forest, param_grid=params2, verbose = 1,  n_jobs = -1)\n",
    "\n",
    "\n"
   ]
  },
  {
   "cell_type": "markdown",
   "metadata": {
    "ExecuteTime": {
     "end_time": "2023-06-04T10:31:03.378296Z",
     "start_time": "2023-06-04T10:31:03.374665Z"
    }
   },
   "source": [
    "# Model evaluation"
   ]
  },
  {
   "cell_type": "code",
   "execution_count": 79,
   "metadata": {
    "ExecuteTime": {
     "end_time": "2023-06-04T14:43:59.510843Z",
     "start_time": "2023-06-04T14:36:56.291778Z"
    }
   },
   "outputs": [
    {
     "name": "stdout",
     "output_type": "stream",
     "text": [
      "Fitting 5 folds for each of 8 candidates, totalling 40 fits\n"
     ]
    }
   ],
   "source": [
    "from numpy import mean\n",
    "from numpy import std\n",
    "from sklearn.model_selection import KFold\n",
    "from sklearn.model_selection import cross_val_score\n",
    "\n",
    "\n",
    "\n",
    "\n",
    "# evaluate model\n",
    "clf.fit(x_train, y_train)\n",
    "#scores = cross_val_score(forest1, x_train, y, scoring='accuracy', cv=cv)\n",
    "final_clf = clf.best_estimator_\n",
    "\n",
    "# report performance\n",
    "#print('Accuracy for RandomForest: %.3f (%.3f)' % (mean(scores), std(scores)))"
   ]
  },
  {
   "cell_type": "code",
   "execution_count": 80,
   "metadata": {
    "ExecuteTime": {
     "end_time": "2023-06-04T14:45:10.382365Z",
     "start_time": "2023-06-04T14:45:10.369907Z"
    }
   },
   "outputs": [
    {
     "data": {
      "text/plain": [
       "RandomForestClassifier(max_depth=15, min_samples_leaf=5, random_state=42)"
      ]
     },
     "execution_count": 80,
     "metadata": {},
     "output_type": "execute_result"
    }
   ],
   "source": [
    "final_clf"
   ]
  },
  {
   "cell_type": "code",
   "execution_count": 83,
   "metadata": {
    "ExecuteTime": {
     "end_time": "2023-06-04T14:48:24.603725Z",
     "start_time": "2023-06-04T14:48:24.087454Z"
    }
   },
   "outputs": [
    {
     "name": "stdout",
     "output_type": "stream",
     "text": [
      "Test Accuracy:  0.6780257910818789\n"
     ]
    },
    {
     "data": {
      "text/plain": [
       "array([[  397,     0,     0,     0,   721,    10,   323],\n",
       "       [    2,    10,     0,     0,   153,     0,    91],\n",
       "       [   10,     0,     0,     0,    23,     0,     6],\n",
       "       [    0,     0,     0,     0,    29,     0,     5],\n",
       "       [   72,     0,     0,     0, 11388,     5,   413],\n",
       "       [   14,     0,     0,     0,   377,    27,    65],\n",
       "       [  147,     7,     0,     0,  3742,     2,  1270]])"
      ]
     },
     "execution_count": 83,
     "metadata": {},
     "output_type": "execute_result"
    }
   ],
   "source": [
    "from sklearn.metrics import accuracy_score, confusion_matrix\n",
    "\n",
    "y_pred = final_clf.predict(x_test)\n",
    "score = accuracy_score(y_test, y_pred)\n",
    "print(\"Test Accuracy: \", score)\n",
    "confusion_matrix(y_test, y_pred)"
   ]
  },
  {
   "cell_type": "code",
   "execution_count": 85,
   "metadata": {
    "ExecuteTime": {
     "end_time": "2023-06-04T14:53:12.612137Z",
     "start_time": "2023-06-04T14:53:11.341528Z"
    }
   },
   "outputs": [
    {
     "name": "stdout",
     "output_type": "stream",
     "text": [
      "Train Accuracy: 0.719775571860164\n",
      "Importances: [0.1031686  0.11037769 0.07850852 0.08570643 0.094888   0.10757812\n",
      " 0.18429582 0.10085539 0.04692682 0.0876946 ]\n"
     ]
    }
   ],
   "source": [
    "y_train_pred = final_clf.predict(x_train)\n",
    "score_train = accuracy_score(y_train, y_train_pred)\n",
    "print(\"Train Accuracy:\",score_train)\n"
   ]
  },
  {
   "cell_type": "code",
   "execution_count": 96,
   "metadata": {
    "ExecuteTime": {
     "end_time": "2023-06-04T15:02:03.090640Z",
     "start_time": "2023-06-04T15:02:02.814745Z"
    }
   },
   "outputs": [
    {
     "data": {
      "text/plain": [
       "<AxesSubplot:>"
      ]
     },
     "execution_count": 96,
     "metadata": {},
     "output_type": "execute_result"
    },
    {
     "data": {
      "image/png": "[encoded data removed]",
      "text/plain": [
       "<Figure size 432x288 with 1 Axes>"
      ]
     },
     "metadata": {
      "needs_background": "light"
     },
     "output_type": "display_data"
    }
   ],
   "source": [
    "feats = {} # a dict to hold feature_name: feature_importance\n",
    "for feature, importance in zip(x_train.columns, final_clf.feature_importances_):\n",
    "    feats[feature] = importance #add the name/value pair \n",
    "\n",
    "#plot features by their importance\n",
    "importances = pd.DataFrame.from_dict(feats, orient='index').rename(columns={0: 'Gini-importance'})\n",
    "importances.sort_values(by='Gini-importance').plot(kind='bar', rot=45)"
   ]
  },
  {
   "cell_type": "markdown",
   "metadata": {},
   "source": [
    "Results of the Application of Random Forests on Noise 41 and Weather\n",
    "\n",
    "Train Accuracy: 0.72\n",
    "Test Accuracy: 0.68\n",
    "We found out than LC_n is the most important feature according to the model (meaning that feature splits the data with highest gini impurity)\n",
    " \n",
    "Test accuracy is lower than train accuracy as usual, but not critically lower. We have improved the test accuracy with improving pre-processing texhniques, like transformating to follow normal distribution, scaling, etc."
   ]
  },
  {
   "cell_type": "code",
   "execution_count": 93,
   "metadata": {
    "ExecuteTime": {
     "end_time": "2023-06-04T14:58:29.242003Z",
     "start_time": "2023-06-04T14:58:29.229333Z"
    }
   },
   "outputs": [
    {
     "data": {
      "text/plain": [
       "{'bootstrap': True,\n",
       " 'ccp_alpha': 0.0,\n",
       " 'class_weight': None,\n",
       " 'criterion': 'gini',\n",
       " 'max_depth': 15,\n",
       " 'max_features': 'auto',\n",
       " 'max_leaf_nodes': None,\n",
       " 'max_samples': None,\n",
       " 'min_impurity_decrease': 0.0,\n",
       " 'min_impurity_split': None,\n",
       " 'min_samples_leaf': 5,\n",
       " 'min_samples_split': 2,\n",
       " 'min_weight_fraction_leaf': 0.0,\n",
       " 'n_estimators': 100,\n",
       " 'n_jobs': None,\n",
       " 'oob_score': False,\n",
       " 'random_state': 42,\n",
       " 'verbose': 0,\n",
       " 'warm_start': False}"
      ]
     },
     "execution_count": 93,
     "metadata": {},
     "output_type": "execute_result"
    }
   ],
   "source": [
    "final_clf.get_params()"
   ]
  },
  {
   "cell_type": "code",
   "execution_count": null,
   "metadata": {},
   "outputs": [],
   "source": []
  }
 ],
 "metadata": {
  "kernelspec": {
   "display_name": "Python 3",
   "language": "python",
   "name": "python3"
  },
  "language_info": {
   "codemirror_mode": {
    "name": "ipython",
    "version": 3
   },
   "file_extension": ".py",
   "mimetype": "text/x-python",
   "name": "python",
   "nbconvert_exporter": "python",
   "pygments_lexer": "ipython3",
   "version": "3.8.5"
  },
  "toc": {
   "base_numbering": 1,
   "nav_menu": {},
   "number_sections": true,
   "sideBar": true,
   "skip_h1_title": false,
   "title_cell": "Table of Contents",
   "title_sidebar": "Contents",
   "toc_cell": false,
   "toc_position": {},
   "toc_section_display": true,
   "toc_window_display": false
  },
  "varInspector": {
   "cols": {
    "lenName": 16,
    "lenType": 16,
    "lenVar": 40
   },
   "kernels_config": {
    "python": {
     "delete_cmd_postfix": "",
     "delete_cmd_prefix": "del ",
     "library": "var_list.py",
     "varRefreshCmd": "print(var_dic_list())"
    },
    "r": {
     "delete_cmd_postfix": ") ",
     "delete_cmd_prefix": "rm(",
     "library": "var_list.r",
     "varRefreshCmd": "cat(var_dic_list()) "
    }
   },
   "types_to_exclude": [
    "module",
    "function",
    "builtin_function_or_method",
    "instance",
    "_Feature"
   ],
   "window_display": false
  }
 },
 "nbformat": 4,
 "nbformat_minor": 5
}
